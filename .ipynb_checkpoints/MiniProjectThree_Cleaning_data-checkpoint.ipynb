{
 "cells": [
  {
   "cell_type": "code",
   "execution_count": 14,
   "metadata": {},
   "outputs": [],
   "source": [
    "#not a rocket sciencist, don't know what is going on in here\n",
    "\n",
    "import numpy as np     #library for mathematical functions and mulit-dimensional arrays\n",
    "import pandas as pd    #library for data manipulation and analysis\n",
    "import seaborn as sns  #library for statistical data visualization\n",
    "import matplotlib.pyplot as plt\n",
    "from matplotlib.ticker import FormatStrFormatter\n",
    "import re #this might be regular expression or might be something else\n",
    "from datetime import datetime    #library to work with time data"
   ]
  },
  {
   "cell_type": "code",
   "execution_count": 15,
   "metadata": {},
   "outputs": [
    {
     "name": "stdout",
     "output_type": "stream",
     "text": [
      "<class 'pandas.core.frame.DataFrame'>\n",
      "RangeIndex: 223409 entries, 0 to 223408\n",
      "Data columns (total 5 columns):\n",
      " #   Column  Non-Null Count   Dtype \n",
      "---  ------  --------------   ----- \n",
      " 0   _id     223409 non-null  int64 \n",
      " 1   time    223409 non-null  object\n",
      " 2   cno     223409 non-null  int64 \n",
      " 3   in      223409 non-null  int64 \n",
      " 4   out     223409 non-null  int64 \n",
      "dtypes: int64(4), object(1)\n",
      "memory usage: 8.5+ MB\n"
     ]
    },
    {
     "data": {
      "text/html": [
       "<div>\n",
       "<style scoped>\n",
       "    .dataframe tbody tr th:only-of-type {\n",
       "        vertical-align: middle;\n",
       "    }\n",
       "\n",
       "    .dataframe tbody tr th {\n",
       "        vertical-align: top;\n",
       "    }\n",
       "\n",
       "    .dataframe thead th {\n",
       "        text-align: right;\n",
       "    }\n",
       "</style>\n",
       "<table border=\"1\" class=\"dataframe\">\n",
       "  <thead>\n",
       "    <tr style=\"text-align: right;\">\n",
       "      <th></th>\n",
       "      <th>_id</th>\n",
       "      <th>time</th>\n",
       "      <th>cno</th>\n",
       "      <th>in</th>\n",
       "      <th>out</th>\n",
       "    </tr>\n",
       "  </thead>\n",
       "  <tbody>\n",
       "    <tr>\n",
       "      <th>0</th>\n",
       "      <td>1</td>\n",
       "      <td>2016-05-10T11:00:00</td>\n",
       "      <td>3</td>\n",
       "      <td>2</td>\n",
       "      <td>9</td>\n",
       "    </tr>\n",
       "    <tr>\n",
       "      <th>1</th>\n",
       "      <td>2</td>\n",
       "      <td>2016-05-10T10:00:00</td>\n",
       "      <td>3</td>\n",
       "      <td>7</td>\n",
       "      <td>12</td>\n",
       "    </tr>\n",
       "    <tr>\n",
       "      <th>2</th>\n",
       "      <td>3</td>\n",
       "      <td>2016-05-10T00:00:00</td>\n",
       "      <td>3</td>\n",
       "      <td>0</td>\n",
       "      <td>0</td>\n",
       "    </tr>\n",
       "    <tr>\n",
       "      <th>3</th>\n",
       "      <td>4</td>\n",
       "      <td>2016-05-10T19:00:00</td>\n",
       "      <td>3</td>\n",
       "      <td>0</td>\n",
       "      <td>1</td>\n",
       "    </tr>\n",
       "    <tr>\n",
       "      <th>4</th>\n",
       "      <td>5</td>\n",
       "      <td>2016-05-10T18:00:00</td>\n",
       "      <td>3</td>\n",
       "      <td>0</td>\n",
       "      <td>0</td>\n",
       "    </tr>\n",
       "  </tbody>\n",
       "</table>\n",
       "</div>"
      ],
      "text/plain": [
       "   _id                 time  cno  in  out\n",
       "0    1  2016-05-10T11:00:00    3   2    9\n",
       "1    2  2016-05-10T10:00:00    3   7   12\n",
       "2    3  2016-05-10T00:00:00    3   0    0\n",
       "3    4  2016-05-10T19:00:00    3   0    1\n",
       "4    5  2016-05-10T18:00:00    3   0    0"
      ]
     },
     "execution_count": 15,
     "metadata": {},
     "output_type": "execute_result"
    }
   ],
   "source": [
    "#loading the CSV file and peek what is inside the Pandora's Box\n",
    "df = pd.read_csv(\"Data.csv\") \n",
    "df.info()\n",
    "df.head(5)"
   ]
  },
  {
   "cell_type": "code",
   "execution_count": 16,
   "metadata": {},
   "outputs": [],
   "source": [
    "#Cleaning the data, and put time information into \"date\" and \"hours\"\n",
    "df[[\"date\",\"hours\"]]=df[\"time\"].str.split(\"T\",expand=True)\n",
    "df['date_timedata']=df['date']\n",
    "df['date'] = df['date'].str.replace('-','').astype('int')\n",
    "df['hours'] = df['hours'].str.replace(':','').astype('int')"
   ]
  },
  {
   "cell_type": "code",
   "execution_count": 17,
   "metadata": {},
   "outputs": [],
   "source": [
    "#sorting the value with date\n",
    "df=df.sort_values(by=['date'], ascending=True)"
   ]
  },
  {
   "cell_type": "code",
   "execution_count": 5,
   "metadata": {},
   "outputs": [],
   "source": [
    "#writing the value into another CSV to make the mini project look more complex\n",
    "df.to_csv('CleanedDataInNoteBook.csv')"
   ]
  },
  {
   "cell_type": "code",
   "execution_count": 18,
   "metadata": {},
   "outputs": [
    {
     "name": "stdout",
     "output_type": "stream",
     "text": [
      "<class 'pandas.core.frame.DataFrame'>\n",
      "Int64Index: 223409 entries, 98864 to 223312\n",
      "Data columns (total 8 columns):\n",
      " #   Column         Non-Null Count   Dtype         \n",
      "---  ------         --------------   -----         \n",
      " 0   _id            223409 non-null  int64         \n",
      " 1   time           223409 non-null  object        \n",
      " 2   cno            223409 non-null  int64         \n",
      " 3   in             223409 non-null  int64         \n",
      " 4   out            223409 non-null  int64         \n",
      " 5   date           223409 non-null  datetime64[ns]\n",
      " 6   hours          223409 non-null  int64         \n",
      " 7   date_timedata  223409 non-null  object        \n",
      "dtypes: datetime64[ns](1), int64(5), object(2)\n",
      "memory usage: 15.3+ MB\n"
     ]
    }
   ],
   "source": [
    "#convert date from string into datatime(a data type in panda) \n",
    "df[\"date\"] = pd.to_datetime(df[\"date\"], format=\"%Y%m%d\")\n",
    "#check if I fuck up or not \n",
    "df.info()"
   ]
  },
  {
   "cell_type": "code",
   "execution_count": 19,
   "metadata": {},
   "outputs": [],
   "source": [
    "#grouping the data base on date\n",
    "df=df.groupby(['date']).sum().reset_index()"
   ]
  },
  {
   "cell_type": "code",
   "execution_count": null,
   "metadata": {},
   "outputs": [],
   "source": [
    "#prepare the data for graph\n",
    "showdf=df[['date','in','out']]\n",
    "\n",
    "\n"
   ]
  },
  {
   "cell_type": "code",
   "execution_count": null,
   "metadata": {},
   "outputs": [],
   "source": [
    "#check if I fuck up or not\n",
    "print(showdf)"
   ]
  },
  {
   "cell_type": "code",
   "execution_count": 6,
   "metadata": {},
   "outputs": [
    {
     "name": "stdout",
     "output_type": "stream",
     "text": [
      "           _id                 time  cno   in  out      date   hours  \\\n",
      "98864    98865  2015-07-06T23:00:00    3    1    4  20150706  230000   \n",
      "102321  102322  2015-07-06T20:00:00    6    0    4  20150706  200000   \n",
      "102322  102323  2015-07-06T22:00:00    6    0    8  20150706  220000   \n",
      "102318  102319  2015-07-06T17:00:00    6  149  166  20150706  170000   \n",
      "102317  102318  2015-07-06T16:00:00    6  142  211  20150706  160000   \n",
      "\n",
      "       date_timedata  \n",
      "98864     2015-07-06  \n",
      "102321    2015-07-06  \n",
      "102322    2015-07-06  \n",
      "102318    2015-07-06  \n",
      "102317    2015-07-06  \n"
     ]
    }
   ],
   "source": [
    "#plz work, just show me the graph\n",
    "showdf.plot.line(x=\"date\", y=[\"in\", \"out\"])\n",
    "plt.show()"
   ]
  },
  {
   "cell_type": "code",
   "execution_count": 12,
   "metadata": {},
   "outputs": [
    {
     "name": "stdout",
     "output_type": "stream",
     "text": [
      "          date       _id  cno    in   out     hours\n",
      "0     20150706   2209494   96  1947  2957   3760000\n",
      "1     20150707   3321620  150  1973  2645   4800000\n",
      "2     20150708   3216350  141  3315  3360   4780000\n",
      "3     20150709   3216864  141  3512  3333   4630000\n",
      "4     20150710   2917130  129  3446  3367   4540000\n",
      "...        ...       ...  ...   ...   ...       ...\n",
      "1444  20190620  32077656  552  4519  4450  16560000\n",
      "1445  20190621  32098392  552  5876  5726  16560000\n",
      "1446  20190622  32119128  552  2613  2466  16560000\n",
      "1447  20190623  32150289  552  1767  1661  16560000\n",
      "1448  20190624  32150175  552  4607  4227  16560000\n",
      "\n",
      "[1449 rows x 6 columns]\n"
     ]
    }
   ],
   "source": []
  },
  {
   "cell_type": "code",
   "execution_count": 11,
   "metadata": {},
   "outputs": [
    {
     "name": "stdout",
     "output_type": "stream",
     "text": [
      "          date       _id  cno    in   out     hours\n",
      "0     20150706   2209494   96  1947  2957   3760000\n",
      "1     20150707   3321620  150  1973  2645   4800000\n",
      "2     20150708   3216350  141  3315  3360   4780000\n",
      "3     20150709   3216864  141  3512  3333   4630000\n",
      "4     20150710   2917130  129  3446  3367   4540000\n",
      "...        ...       ...  ...   ...   ...       ...\n",
      "1444  20190620  32077656  552  4519  4450  16560000\n",
      "1445  20190621  32098392  552  5876  5726  16560000\n",
      "1446  20190622  32119128  552  2613  2466  16560000\n",
      "1447  20190623  32150289  552  1767  1661  16560000\n",
      "1448  20190624  32150175  552  4607  4227  16560000\n",
      "\n",
      "[1449 rows x 6 columns]\n"
     ]
    }
   ],
   "source": []
  },
  {
   "cell_type": "code",
   "execution_count": 9,
   "metadata": {},
   "outputs": [
    {
     "ename": "NameError",
     "evalue": "name 'var' is not defined",
     "output_type": "error",
     "traceback": [
      "\u001b[0;31m---------------------------------------------------------------------------\u001b[0m",
      "\u001b[0;31mNameError\u001b[0m                                 Traceback (most recent call last)",
      "\u001b[0;32m<ipython-input-9-11ccb91b5b55>\u001b[0m in \u001b[0;36m<module>\u001b[0;34m\u001b[0m\n\u001b[0;32m----> 1\u001b[0;31m \u001b[0mvar2\u001b[0m\u001b[0;34m=\u001b[0m\u001b[0mvar\u001b[0m\u001b[0;34m[\u001b[0m\u001b[0;34m[\u001b[0m\u001b[0;34m'date'\u001b[0m\u001b[0;34m,\u001b[0m\u001b[0;34m'in'\u001b[0m\u001b[0;34m,\u001b[0m\u001b[0;34m'out'\u001b[0m\u001b[0;34m]\u001b[0m\u001b[0;34m]\u001b[0m\u001b[0;34m\u001b[0m\u001b[0;34m\u001b[0m\u001b[0m\n\u001b[0m\u001b[1;32m      2\u001b[0m \u001b[0mprint\u001b[0m\u001b[0;34m(\u001b[0m\u001b[0mvar2\u001b[0m\u001b[0;34m)\u001b[0m\u001b[0;34m\u001b[0m\u001b[0;34m\u001b[0m\u001b[0m\n",
      "\u001b[0;31mNameError\u001b[0m: name 'var' is not defined"
     ]
    }
   ],
   "source": []
  },
  {
   "cell_type": "code",
   "execution_count": null,
   "metadata": {},
   "outputs": [],
   "source": []
  },
  {
   "cell_type": "code",
   "execution_count": null,
   "metadata": {},
   "outputs": [],
   "source": []
  }
 ],
 "metadata": {
  "kernelspec": {
   "display_name": "Python 3",
   "language": "python",
   "name": "python3"
  },
  "language_info": {
   "codemirror_mode": {
    "name": "ipython",
    "version": 3
   },
   "file_extension": ".py",
   "mimetype": "text/x-python",
   "name": "python",
   "nbconvert_exporter": "python",
   "pygments_lexer": "ipython3",
   "version": "3.8.3"
  }
 },
 "nbformat": 4,
 "nbformat_minor": 4
}
