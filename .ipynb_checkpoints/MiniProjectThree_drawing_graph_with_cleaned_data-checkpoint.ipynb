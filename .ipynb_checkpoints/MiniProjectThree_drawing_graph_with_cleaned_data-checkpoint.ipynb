{
 "cells": [
  {
   "cell_type": "code",
   "execution_count": 1,
   "metadata": {},
   "outputs": [],
   "source": [
    "import pandas as pd    #library for data manipulation and analysis\n",
    "import matplotlib.pyplot as plt\n",
    "from datetime import datetime    #library to work with time data"
   ]
  },
  {
   "cell_type": "code",
   "execution_count": 2,
   "metadata": {},
   "outputs": [
    {
     "name": "stdout",
     "output_type": "stream",
     "text": [
      "<class 'pandas.core.frame.DataFrame'>\n",
      "RangeIndex: 223409 entries, 0 to 223408\n",
      "Data columns (total 9 columns):\n",
      " #   Column         Non-Null Count   Dtype \n",
      "---  ------         --------------   ----- \n",
      " 0   Unnamed: 0     223409 non-null  int64 \n",
      " 1   _id            223409 non-null  int64 \n",
      " 2   time           223409 non-null  object\n",
      " 3   cno            223409 non-null  int64 \n",
      " 4   in             223409 non-null  int64 \n",
      " 5   out            223409 non-null  int64 \n",
      " 6   date           223409 non-null  int64 \n",
      " 7   hours          223409 non-null  int64 \n",
      " 8   date_timedata  223409 non-null  object\n",
      "dtypes: int64(7), object(2)\n",
      "memory usage: 15.3+ MB\n"
     ]
    },
    {
     "data": {
      "text/html": [
       "<div>\n",
       "<style scoped>\n",
       "    .dataframe tbody tr th:only-of-type {\n",
       "        vertical-align: middle;\n",
       "    }\n",
       "\n",
       "    .dataframe tbody tr th {\n",
       "        vertical-align: top;\n",
       "    }\n",
       "\n",
       "    .dataframe thead th {\n",
       "        text-align: right;\n",
       "    }\n",
       "</style>\n",
       "<table border=\"1\" class=\"dataframe\">\n",
       "  <thead>\n",
       "    <tr style=\"text-align: right;\">\n",
       "      <th></th>\n",
       "      <th>Unnamed: 0</th>\n",
       "      <th>_id</th>\n",
       "      <th>time</th>\n",
       "      <th>cno</th>\n",
       "      <th>in</th>\n",
       "      <th>out</th>\n",
       "      <th>date</th>\n",
       "      <th>hours</th>\n",
       "      <th>date_timedata</th>\n",
       "    </tr>\n",
       "  </thead>\n",
       "  <tbody>\n",
       "    <tr>\n",
       "      <th>0</th>\n",
       "      <td>98864</td>\n",
       "      <td>98865</td>\n",
       "      <td>2015-07-06T23:00:00</td>\n",
       "      <td>3</td>\n",
       "      <td>1</td>\n",
       "      <td>4</td>\n",
       "      <td>20150706</td>\n",
       "      <td>230000</td>\n",
       "      <td>2015-07-06</td>\n",
       "    </tr>\n",
       "    <tr>\n",
       "      <th>1</th>\n",
       "      <td>102321</td>\n",
       "      <td>102322</td>\n",
       "      <td>2015-07-06T20:00:00</td>\n",
       "      <td>6</td>\n",
       "      <td>0</td>\n",
       "      <td>4</td>\n",
       "      <td>20150706</td>\n",
       "      <td>200000</td>\n",
       "      <td>2015-07-06</td>\n",
       "    </tr>\n",
       "    <tr>\n",
       "      <th>2</th>\n",
       "      <td>102322</td>\n",
       "      <td>102323</td>\n",
       "      <td>2015-07-06T22:00:00</td>\n",
       "      <td>6</td>\n",
       "      <td>0</td>\n",
       "      <td>8</td>\n",
       "      <td>20150706</td>\n",
       "      <td>220000</td>\n",
       "      <td>2015-07-06</td>\n",
       "    </tr>\n",
       "    <tr>\n",
       "      <th>3</th>\n",
       "      <td>102318</td>\n",
       "      <td>102319</td>\n",
       "      <td>2015-07-06T17:00:00</td>\n",
       "      <td>6</td>\n",
       "      <td>149</td>\n",
       "      <td>166</td>\n",
       "      <td>20150706</td>\n",
       "      <td>170000</td>\n",
       "      <td>2015-07-06</td>\n",
       "    </tr>\n",
       "    <tr>\n",
       "      <th>4</th>\n",
       "      <td>102317</td>\n",
       "      <td>102318</td>\n",
       "      <td>2015-07-06T16:00:00</td>\n",
       "      <td>6</td>\n",
       "      <td>142</td>\n",
       "      <td>211</td>\n",
       "      <td>20150706</td>\n",
       "      <td>160000</td>\n",
       "      <td>2015-07-06</td>\n",
       "    </tr>\n",
       "  </tbody>\n",
       "</table>\n",
       "</div>"
      ],
      "text/plain": [
       "   Unnamed: 0     _id                 time  cno   in  out      date   hours  \\\n",
       "0       98864   98865  2015-07-06T23:00:00    3    1    4  20150706  230000   \n",
       "1      102321  102322  2015-07-06T20:00:00    6    0    4  20150706  200000   \n",
       "2      102322  102323  2015-07-06T22:00:00    6    0    8  20150706  220000   \n",
       "3      102318  102319  2015-07-06T17:00:00    6  149  166  20150706  170000   \n",
       "4      102317  102318  2015-07-06T16:00:00    6  142  211  20150706  160000   \n",
       "\n",
       "  date_timedata  \n",
       "0    2015-07-06  \n",
       "1    2015-07-06  \n",
       "2    2015-07-06  \n",
       "3    2015-07-06  \n",
       "4    2015-07-06  "
      ]
     },
     "execution_count": 2,
     "metadata": {},
     "output_type": "execute_result"
    }
   ],
   "source": [
    "#loading the CSV file and peek what is inside the Pandora's Box\n",
    "df = pd.read_csv(\"CleanedDataInNoteBook.csv\") \n",
    "df.info()\n",
    "df.head(5)"
   ]
  },
  {
   "cell_type": "code",
   "execution_count": 3,
   "metadata": {},
   "outputs": [
    {
     "name": "stdout",
     "output_type": "stream",
     "text": [
      "<class 'pandas.core.frame.DataFrame'>\n",
      "RangeIndex: 223409 entries, 0 to 223408\n",
      "Data columns (total 9 columns):\n",
      " #   Column         Non-Null Count   Dtype         \n",
      "---  ------         --------------   -----         \n",
      " 0   Unnamed: 0     223409 non-null  int64         \n",
      " 1   _id            223409 non-null  int64         \n",
      " 2   time           223409 non-null  object        \n",
      " 3   cno            223409 non-null  int64         \n",
      " 4   in             223409 non-null  int64         \n",
      " 5   out            223409 non-null  int64         \n",
      " 6   date           223409 non-null  datetime64[ns]\n",
      " 7   hours          223409 non-null  int64         \n",
      " 8   date_timedata  223409 non-null  object        \n",
      "dtypes: datetime64[ns](1), int64(6), object(2)\n",
      "memory usage: 15.3+ MB\n"
     ]
    }
   ],
   "source": [
    "#convert date from string into datatime(a data type in panda) \n",
    "df[\"date\"] = pd.to_datetime(df[\"date\"], format=\"%Y%m%d\")\n",
    "#check if I fuck up or not \n",
    "df.info()"
   ]
  },
  {
   "cell_type": "code",
   "execution_count": 4,
   "metadata": {},
   "outputs": [],
   "source": [
    "#grouping the data base on date\n",
    "df=df.groupby(['date']).sum().reset_index()"
   ]
  },
  {
   "cell_type": "code",
   "execution_count": 5,
   "metadata": {},
   "outputs": [],
   "source": [
    "#prepare the data for graph\n",
    "showdf=df[['date','in','out']]\n"
   ]
  },
  {
   "cell_type": "code",
   "execution_count": 8,
   "metadata": {},
   "outputs": [],
   "source": [
    "#do some filter because the data is to many to show in one graph\n",
    "start_date = \"2017-1-1\"\n",
    "end_date = \"2017-12-31\"\n",
    "\n",
    "after_start_date = showdf[\"date\"] >= start_date\n",
    "before_end_date = showdf[\"date\"] <= end_date\n",
    "between_two_dates = after_start_date & before_end_date\n",
    "showdf = df.loc[between_two_dates]"
   ]
  },
  {
   "cell_type": "code",
   "execution_count": 9,
   "metadata": {},
   "outputs": [
    {
     "name": "stdout",
     "output_type": "stream",
     "text": [
      "          date  Unnamed: 0       _id  cno    in   out     hours\n",
      "544 2017-01-01     6666492   6666660  672     7     7  19320000\n",
      "545 2017-01-02     6694716   6694884  672  3986  3991  19320000\n",
      "546 2017-01-03     6722940   6723108  672  3563  3567  19320000\n",
      "547 2017-01-04     6751164   6751332  672  3626  3607  19320000\n",
      "548 2017-01-05     6779388   6779556  672  3932  3901  19320000\n",
      "..         ...         ...       ...  ...   ...   ...       ...\n",
      "904 2017-12-27    22366428  22366596  672  3585  3533  19320000\n",
      "905 2017-12-28    22394652  22394820  672  4322  4257  19320000\n",
      "906 2017-12-29    22422876  22423044  672  4262  4180  19320000\n",
      "907 2017-12-30    22451100  22451268  672  2049  2056  19320000\n",
      "908 2017-12-31    22479324  22479492  672    77   108  19320000\n",
      "\n",
      "[365 rows x 7 columns]\n"
     ]
    }
   ],
   "source": [
    "#check if I fuck up or not\n",
    "print(showdf)"
   ]
  },
  {
   "cell_type": "code",
   "execution_count": 10,
   "metadata": {},
   "outputs": [
    {
     "data": {
      "image/png": "[encoded data removed]",
      "text/plain": [
       "<Figure size 432x288 with 1 Axes>"
      ]
     },
     "metadata": {
      "needs_background": "light"
     },
     "output_type": "display_data"
    }
   ],
   "source": [
    "#plz work, just show me the graph\n",
    "showdf.plot.line(x=\"date\", y=[\"in\", \"out\"])\n",
    "df.plot(figsize=(10,5));\n",
    "plt.show()"
   ]
  },
  {
   "cell_type": "code",
   "execution_count": null,
   "metadata": {},
   "outputs": [],
   "source": []
  }
 ],
 "metadata": {
  "kernelspec": {
   "display_name": "Python 3",
   "language": "python",
   "name": "python3"
  },
  "language_info": {
   "codemirror_mode": {
    "name": "ipython",
    "version": 3
   },
   "file_extension": ".py",
   "mimetype": "text/x-python",
   "name": "python",
   "nbconvert_exporter": "python",
   "pygments_lexer": "ipython3",
   "version": "3.8.3"
  }
 },
 "nbformat": 4,
 "nbformat_minor": 4
}
