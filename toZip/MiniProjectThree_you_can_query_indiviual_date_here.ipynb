{
 "cells": [
  {
   "cell_type": "code",
   "execution_count": 12,
   "metadata": {},
   "outputs": [],
   "source": [
    "import pandas as pd    #library for data manipulation and analysis\n",
    "from datetime import datetime    #library to work with time data"
   ]
  },
  {
   "cell_type": "code",
   "execution_count": 13,
   "metadata": {},
   "outputs": [
    {
     "name": "stdout",
     "output_type": "stream",
     "text": [
      "<class 'pandas.core.frame.DataFrame'>\n",
      "RangeIndex: 223409 entries, 0 to 223408\n",
      "Data columns (total 9 columns):\n",
      " #   Column         Non-Null Count   Dtype \n",
      "---  ------         --------------   ----- \n",
      " 0   Unnamed: 0     223409 non-null  int64 \n",
      " 1   _id            223409 non-null  int64 \n",
      " 2   time           223409 non-null  object\n",
      " 3   cno            223409 non-null  int64 \n",
      " 4   in             223409 non-null  int64 \n",
      " 5   out            223409 non-null  int64 \n",
      " 6   date           223409 non-null  int64 \n",
      " 7   hours          223409 non-null  int64 \n",
      " 8   date_timedata  223409 non-null  object\n",
      "dtypes: int64(7), object(2)\n",
      "memory usage: 15.3+ MB\n"
     ]
    },
    {
     "data": {
      "text/html": [
       "<div>\n",
       "<style scoped>\n",
       "    .dataframe tbody tr th:only-of-type {\n",
       "        vertical-align: middle;\n",
       "    }\n",
       "\n",
       "    .dataframe tbody tr th {\n",
       "        vertical-align: top;\n",
       "    }\n",
       "\n",
       "    .dataframe thead th {\n",
       "        text-align: right;\n",
       "    }\n",
       "</style>\n",
       "<table border=\"1\" class=\"dataframe\">\n",
       "  <thead>\n",
       "    <tr style=\"text-align: right;\">\n",
       "      <th></th>\n",
       "      <th>Unnamed: 0</th>\n",
       "      <th>_id</th>\n",
       "      <th>time</th>\n",
       "      <th>cno</th>\n",
       "      <th>in</th>\n",
       "      <th>out</th>\n",
       "      <th>date</th>\n",
       "      <th>hours</th>\n",
       "      <th>date_timedata</th>\n",
       "    </tr>\n",
       "  </thead>\n",
       "  <tbody>\n",
       "    <tr>\n",
       "      <th>0</th>\n",
       "      <td>98864</td>\n",
       "      <td>98865</td>\n",
       "      <td>2015-07-06T23:00:00</td>\n",
       "      <td>3</td>\n",
       "      <td>1</td>\n",
       "      <td>4</td>\n",
       "      <td>20150706</td>\n",
       "      <td>230000</td>\n",
       "      <td>2015-07-06</td>\n",
       "    </tr>\n",
       "    <tr>\n",
       "      <th>1</th>\n",
       "      <td>102321</td>\n",
       "      <td>102322</td>\n",
       "      <td>2015-07-06T20:00:00</td>\n",
       "      <td>6</td>\n",
       "      <td>0</td>\n",
       "      <td>4</td>\n",
       "      <td>20150706</td>\n",
       "      <td>200000</td>\n",
       "      <td>2015-07-06</td>\n",
       "    </tr>\n",
       "    <tr>\n",
       "      <th>2</th>\n",
       "      <td>102322</td>\n",
       "      <td>102323</td>\n",
       "      <td>2015-07-06T22:00:00</td>\n",
       "      <td>6</td>\n",
       "      <td>0</td>\n",
       "      <td>8</td>\n",
       "      <td>20150706</td>\n",
       "      <td>220000</td>\n",
       "      <td>2015-07-06</td>\n",
       "    </tr>\n",
       "    <tr>\n",
       "      <th>3</th>\n",
       "      <td>102318</td>\n",
       "      <td>102319</td>\n",
       "      <td>2015-07-06T17:00:00</td>\n",
       "      <td>6</td>\n",
       "      <td>149</td>\n",
       "      <td>166</td>\n",
       "      <td>20150706</td>\n",
       "      <td>170000</td>\n",
       "      <td>2015-07-06</td>\n",
       "    </tr>\n",
       "    <tr>\n",
       "      <th>4</th>\n",
       "      <td>102317</td>\n",
       "      <td>102318</td>\n",
       "      <td>2015-07-06T16:00:00</td>\n",
       "      <td>6</td>\n",
       "      <td>142</td>\n",
       "      <td>211</td>\n",
       "      <td>20150706</td>\n",
       "      <td>160000</td>\n",
       "      <td>2015-07-06</td>\n",
       "    </tr>\n",
       "  </tbody>\n",
       "</table>\n",
       "</div>"
      ],
      "text/plain": [
       "   Unnamed: 0     _id                 time  cno   in  out      date   hours  \\\n",
       "0       98864   98865  2015-07-06T23:00:00    3    1    4  20150706  230000   \n",
       "1      102321  102322  2015-07-06T20:00:00    6    0    4  20150706  200000   \n",
       "2      102322  102323  2015-07-06T22:00:00    6    0    8  20150706  220000   \n",
       "3      102318  102319  2015-07-06T17:00:00    6  149  166  20150706  170000   \n",
       "4      102317  102318  2015-07-06T16:00:00    6  142  211  20150706  160000   \n",
       "\n",
       "  date_timedata  \n",
       "0    2015-07-06  \n",
       "1    2015-07-06  \n",
       "2    2015-07-06  \n",
       "3    2015-07-06  \n",
       "4    2015-07-06  "
      ]
     },
     "execution_count": 13,
     "metadata": {},
     "output_type": "execute_result"
    }
   ],
   "source": [
    "#loading the CSV file and peek what is inside the Pandora's Box\n",
    "df = pd.read_csv(\"CleanedDataInNoteBook.csv\") \n",
    "df.info()\n",
    "df.head(5)\n"
   ]
  },
  {
   "cell_type": "code",
   "execution_count": null,
   "metadata": {},
   "outputs": [],
   "source": []
  },
  {
   "cell_type": "code",
   "execution_count": 17,
   "metadata": {},
   "outputs": [
    {
     "name": "stdout",
     "output_type": "stream",
     "text": [
      "          date  Unnamed: 0       _id  cno    in   out     hours\n",
      "0     20150706     2209472   2209494   96  1947  2957   3760000\n",
      "1     20150707     3321587   3321620  150  1973  2645   4800000\n",
      "2     20150708     3216318   3216350  141  3315  3360   4780000\n",
      "3     20150709     3216832   3216864  141  3512  3333   4630000\n",
      "4     20150710     2917101   2917130  129  3446  3367   4540000\n",
      "...        ...         ...       ...  ...   ...   ...       ...\n",
      "1444  20190620    32077512  32077656  552  4519  4450  16560000\n",
      "1445  20190621    32098248  32098392  552  5876  5726  16560000\n",
      "1446  20190622    32118984  32119128  552  2613  2466  16560000\n",
      "1447  20190623    32150145  32150289  552  1767  1661  16560000\n",
      "1448  20190624    32150031  32150175  552  4607  4227  16560000\n",
      "\n",
      "[1449 rows x 7 columns]\n"
     ]
    }
   ],
   "source": [
    "#grouping the data base on date\n",
    "df=df.groupby(['date']).sum().reset_index()\n",
    "print(df)"
   ]
  },
  {
   "cell_type": "code",
   "execution_count": 18,
   "metadata": {},
   "outputs": [
    {
     "name": "stdout",
     "output_type": "stream",
     "text": [
      "type in date you are interested in, format should be yearmonth date, example=2016010120170303\n"
     ]
    }
   ],
   "source": [
    "interestedDate=input(\"type in date you are interested in, format should be yearmonth date, example=20160101\")"
   ]
  },
  {
   "cell_type": "code",
   "execution_count": 24,
   "metadata": {},
   "outputs": [
    {
     "name": "stdout",
     "output_type": "stream",
     "text": [
      "20170303\n",
      "catched\n",
      "3893\n"
     ]
    }
   ],
   "source": [
    "#iterate through the dataframe\n",
    "for index,row in df.iterrows():\n",
    "    #print(row['date'])\n",
    "    if row['date']==int(interestedDate):\n",
    "        print(row['date'])\n",
    "        print(\"catched\")\n",
    "        print(row['in'])\n",
    "\n"
   ]
  },
  {
   "cell_type": "code",
   "execution_count": 25,
   "metadata": {},
   "outputs": [
    {
     "name": "stdout",
     "output_type": "stream",
     "text": [
      "type in date you are interested in, format should be yearmonth date, example=2015010120150909\n"
     ]
    }
   ],
   "source": [
    "interestedDateForFourYears=input(\"type in date you are interested in, format should be yearmonth date, example=20150101\")"
   ]
  },
  {
   "cell_type": "code",
   "execution_count": 35,
   "metadata": {},
   "outputs": [
    {
     "name": "stdout",
     "output_type": "stream",
     "text": [
      "20150909 :\n",
      "5192\n",
      "20160909 :\n",
      "4302\n",
      "20170909 :\n",
      "3733\n",
      "20180909 :\n",
      "3759\n"
     ]
    }
   ],
   "source": [
    "#iterate through the dataframe\n",
    "print('here is the same date in different year you asked for')\n",
    "for index,row in df.iterrows():\n",
    "    #print(row['date'])\n",
    "    if row['date']==int(interestedDateForFourYears):\n",
    "        print(row['date'],':')\n",
    "        print(row['in'])\n",
    "    elif row['date']==(int(interestedDateForFourYears)+10000):\n",
    "        print(row['date'],':')\n",
    "        print(row['in'])\n",
    "    elif row['date']==(int(interestedDateForFourYears)+20000):\n",
    "        print(row['date'],':')\n",
    "        print(row['in'])\n",
    "    elif row['date']==(int(interestedDateForFourYears)+30000):\n",
    "        print(row['date'],':')\n",
    "        print(row['in'])\n",
    "    "
   ]
  },
  {
   "cell_type": "code",
   "execution_count": null,
   "metadata": {},
   "outputs": [],
   "source": []
  }
 ],
 "metadata": {
  "kernelspec": {
   "display_name": "Python 3",
   "language": "python",
   "name": "python3"
  },
  "language_info": {
   "codemirror_mode": {
    "name": "ipython",
    "version": 3
   },
   "file_extension": ".py",
   "mimetype": "text/x-python",
   "name": "python",
   "nbconvert_exporter": "python",
   "pygments_lexer": "ipython3",
   "version": "3.8.3"
  }
 },
 "nbformat": 4,
 "nbformat_minor": 4
}
